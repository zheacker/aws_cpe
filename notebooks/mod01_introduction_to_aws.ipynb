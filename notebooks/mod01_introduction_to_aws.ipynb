{
 "cells": [
  {
   "cell_type": "markdown",
   "metadata": {},
   "source": [
    "# Intro to AWS\n",
    "## Learning Objectives\n",
    "- benefits of aws\n",
    "- differences between on-demand and cloud deployments\n",
    "- pay-as-you-go pricing model\n",
    "\n",
    "## Video\n",
    "Meet the instructors, they're super excited to teach us. (They legit seem cool.)\n",
    "\n",
    "What does AWS offer? Compute, storage, network security, blockchain, ML, AI, robotic development, video production, orbital satellites (jesus christ). We're going to focus on the basics though, with a coffee shop analogy.\n",
    "\n",
    "A customer asks the barista for a coffee. That's like a \"client\" (customer) making a \"request\" (coffee) to the \"server\" (barista). In aws, servers are associated with EC2, an \"elastic compute cloud,\" a virtual server. Of course this gets drastically (beautifully!) more complex.\n",
    "\n",
    "## Only pay for what you use\n",
    "This is a basic principle of aws. You can scale your services to meet demand, but I'm sure the mechanics of this get somewhat complex. With on-premise systems, however, you have to build the system to meet max demand, and then it just sits idle most of the time, costing you $$.\n",
    "\n",
    "## Cloud Computing\n",
    "Cloud computing simply means on-demand delivery of IT resources over the internet with pay-as-you-go pricing. They refer to the \"undifferentiated heavy lifting of IT,\" like running a MySQL database, or managing backups of it. Everyone has to do that, and doing it well doesn't actually help your business be better than anyone else. It's just boilerplate tech garbage that we all have to deal with now, so they say \"let aws do it instead.\""
   ]
  }
 ],
 "metadata": {
  "language_info": {
   "name": "python"
  }
 },
 "nbformat": 4,
 "nbformat_minor": 2
}
