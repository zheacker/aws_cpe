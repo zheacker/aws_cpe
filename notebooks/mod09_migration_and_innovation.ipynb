{
 "cells": [
  {
   "cell_type": "markdown",
   "metadata": {},
   "source": [
    "# Migration & Innovation\n",
    "## AWS Cloud Adoption Framework (AWS CAF)\n",
    "This is a system that helps you migrate smoothly. It's made of 6 parts:\n",
    "- business\n",
    "- people\n",
    "- governance\n",
    "- platform\n",
    "- security\n",
    "- operations\n",
    "\n",
    "These elements suggest how you should approach the various facets of a migration, and using this framework as a guide you can develop your AWS CAF Action Plan.\n",
    "\n",
    "## Migration Strategies\n",
    "There are 6 R's of migration.\n",
    "- Rehosting - lift and shift. Easy to do, just pick up the applications and move them to AWS. Little optimization, still saving money, and you can optimize later.\n",
    "- Replatforming - lift + tinker + shift. No dev work, but maybe small tweaks. For example, you could take your existing MySQL database and move it to RDS MySQL, or upgrade to Amazon Aurora. You can make life easier for the dev team, and see performance/cost benefits with zero code changes.\n",
    "- Retire - Maybe you kill it? Maybe it's vestigial?\n",
    "- Retain - Maybe you wanna kill it, but you'll leave it sticking around for 8 more months? Maybe you just keep it for real?\n",
    "- Repurchase - Ending a contract with an old CRM vendor, or nixing an out of date technology for a newer one. Can see higher initial costs, but benefits over time.\n",
    "- Refactoring - New code. Dramatic changes to your architecture can open new possibilities for you, so you could wind up totally rewriting some core components to take advantage of the cloud. More cost, harder, but fun!\n",
    "\n",
    "## AWS Snow Family\n",
    "Moving tons of data can take an absurdly long time, so the Snow family exists to make that job easier. Physical devices that you copy your data to, ship it to AWS, and they upload it directly to your S3 buckets.\n",
    "- Snowcone - 8TB\n",
    "- Snowball Edge - 2 version, compute or storage optimized (Storage Optimized is 80TB). They fit into existing server racks.\n",
    "- Snowmobile - It's a shipping container hauled by a truck. 100PB. They drive up, plug it in, and it shows up on your network.\n",
    "\n",
    "This is how we move data in the modern world...\n",
    "\n",
    "## Innovation with AWS\n",
    "There's a ton more to cover. VMWare Cloud on AWS lets you run VMWare, but on the cloud. Amazon SageMaker lets you use prebuilt or build your own ML models. Amazon Augmented AI (Amazon A2I) is another thing(?). Amazon Lex (Alexa) can build chatbots. Amazon Textract extracts data from text. AWS DeepRacer is a race car reinforcement learning platform.\n",
    "\n",
    "AWS GROUND STATION LETS YOU LAUNCH SATELLITES. This is insane. This is The Empire."
   ]
  }
 ],
 "metadata": {
  "language_info": {
   "name": "python"
  }
 },
 "nbformat": 4,
 "nbformat_minor": 2
}
