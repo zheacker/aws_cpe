{
 "cells": [
  {
   "cell_type": "markdown",
   "metadata": {},
   "source": [
    "# Networking\n",
    "All things connectivity! But once we have some applications/services up and running, we need a way to control connectivity to those services. Enter Amazon Virtual Private Clouds (VPC's). A VPC lets you provision a logically isolated section of the cloud. You can launch resources here, on a network that you define, and resources can be public facing or private, with no internet access. Usually, we can organize this with different subnets.\n",
    "\n",
    "## Connectivity to AWS\n",
    "So you place resources like EC2 instances and ELB (load balancer) inside your VPC, and you'll place them in different subnets. Generally, only public-facing resources should be on public subnets. Remember, a subnet is just a chunk of IP addresses. These along with network rules will determine public/private access.\n",
    "\n",
    "### Public resources\n",
    "In order to get internet traffic into your VPC, you have to have an internet gateway (IGW). This is the front door of the coffee shop. \n",
    "\n",
    "### Private resources\n",
    "These resources shouldn't be accessed publicly, so we need a Virtual Private Gateway (VPG) which will allow us to make a VPN connection to our resources. This VPN is still routed on the public internet, it's just encrypted.\n",
    "\n",
    "So you can also use AWS Direct Connect. This is a private fiber connection from your data center to AWS services. Good for regulatory and compliance stuff, sometimes.\n",
    "\n",
    "## Subnets & Network Access Control Lists\n",
    "So you have a gateway on your VPC, and that can cover some perimeter security, but there's way more to the picture. \n",
    "\n",
    "### Network Hardening\n",
    "Securing things inside the network. The only technical reason to use subnets in a VPC is to control access to the gateway. Public subnets can hit the internet gateway, private cannot. But subnets can also control traffic permissions. When a packet crosses the subnet boundary, it's checked against the network access control list (ACL). So we can check packets this way, and see if it has permissions to enter/exit the subnet.\n",
    "\n",
    "So ACL's are useful between subnets, but you can also have multiple EC2 instances in the same subnet, and for that we can implement security groups, for instance-level network security. These security group policies check traffic on the way *into* the EC2 instance, but not on the way out (by default).\n",
    "\n",
    "Security groups are stateful, while ACL's are stateless. Stateful means it has memory, and stateless means it has no memory, it just checks everything all the time.\n",
    "\n",
    "### A packet route\n",
    "We have EC2-A in Subnet-1 and EC2-B in Subnet-2.\n",
    "1. Instance A sends a packet to instance B.\n",
    "1. packet runs into security group A. By default, all outbound traffic is allowed.\n",
    "1. packet runs into subnet 1 boundary (network ACL). Target address is allows, so packet passes.\n",
    "1. packet runs into ACL-2, packet is approved and passes.\n",
    "1. packet runs into security group B, passes.\n",
    "\n",
    "The return trip is where things get interesting, due to the stateful/stateless nature of these protocols.\n",
    "1. Security groups by default allow all return traffic, so packet exits security group B\n",
    "1. packet hits subnet 2 boundary, ACL-2 is stateless, so it's checked here\n",
    "1. packet hits subnet 1 boundary, ACL-1 is stateless, so it's checked here\n",
    "1. packet his security group A, stateful, so it remembers the packet\n",
    "\n",
    "## Global networking\n",
    "Route 53 is the AWS DNS service. This translates website names and IP addresses. Route 53 can route traffic based on policies, like:\n",
    "- latency based routing\n",
    "- geolocation dns\n",
    "- geoproximity routing\n",
    "- weighted round robin\n",
    "\n",
    "You can also buy and register domains directly on AWS."
   ]
  }
 ],
 "metadata": {
  "language_info": {
   "name": "python"
  }
 },
 "nbformat": 4,
 "nbformat_minor": 2
}
