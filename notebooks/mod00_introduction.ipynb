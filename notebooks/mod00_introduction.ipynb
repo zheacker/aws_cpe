{
 "cells": [
  {
   "cell_type": "markdown",
   "metadata": {},
   "source": [
    "# Intro to AWS Cloud Practitioner Essentials\n",
    "10 modules, we're going to learn about aws cloud concepts, services, security, architecture, pricing, and support. All end user stuff related to \"how to business with aws.\"\n",
    "\n",
    "We'll also cover some exam info and exam prep."
   ]
  }
 ],
 "metadata": {
  "language_info": {
   "name": "python"
  }
 },
 "nbformat": 4,
 "nbformat_minor": 2
}
