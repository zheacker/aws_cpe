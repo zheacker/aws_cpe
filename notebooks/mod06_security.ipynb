{
 "cells": [
  {
   "cell_type": "markdown",
   "metadata": {},
   "source": [
    "# Security\n",
    "## Shared Responsibility Model\n",
    "AWS is responsible for the security \"of the cloud,\" and customers are responsible for security \"in the cloud.\"\n",
    "\n",
    "So AWS is responsible for the global infrastructure, regions, edge locations, availability zones, the compute, storage, database, and networking logistics. Customers are responsible for client-side encryption, server-side encryption, network traffic protection, OS, network, firewall config, platform, applications, identity & access management.\n",
    "\n",
    "Another perspective shows AWS responsible for Physical, Network, & Hypervisor security, while we're in charge of OS, Application, and Data.\n",
    "\n",
    "## User permissions & access\n",
    "So different users need different permissions, obviously. When you start your aws journey, you'll have the root account. This is god. `sudo`. It can do anything. Do not use this account.\n",
    "\n",
    "The first thing you should do is turn on MFA for root, and then you should make your IAM user account.\n",
    "\n",
    "## AWS Identity and Access Management (IAM)\n",
    "When you create an IAM user, by default it has zero permissions. They must be granted. This is the principle of least privilege, which means users are only granted what they need, no more.\n",
    "You grant these permissions with IAM policies, which are json documents describing what API calls a user can or cannot make.\n",
    "\n",
    "An example:"
   ]
  },
  {
   "cell_type": "code",
   "execution_count": null,
   "metadata": {
    "vscode": {
     "languageId": "polyglot-notebook"
    }
   },
   "outputs": [],
   "source": [
    "{\n",
    "    \"Version\": \"2012-10-17\",\n",
    "    \"Statement\": {\n",
    "        \"Effect\": \"Allow\",\n",
    "        \"Action\": \"s3:ListBucket\",\n",
    "        \"Resource\": \"arn:aws:s3:::coffees_shop_reports\"\n",
    "    }\n",
    "}"
   ]
  },
  {
   "cell_type": "markdown",
   "metadata": {},
   "source": [
    "Policies can only have 2 possible effects: allow or deny. Action can list any API call. And resource can name any AWS resource. Business users won't create these policies, but understanding them is important.\n",
    "\n",
    "You can also bundle users together into IAM groups. So you attach policies to groups, and users to groups, and permissions can be managed at the group level.\n",
    "\n",
    "### Roles\n",
    "Roles are another feature of IAM. A user can serve various roles over time in the course of their job. In the morning, they're doing 1 type of work, but in the afternoon they pivot to something else. You can set up Roles for uses to assume at various times. Roles can have associated permissions, and when the user assumes a role, they are temporarily granted the permissions of that role.\n",
    "\n",
    "## AWS Organizations\n",
    "When you start, you'll typically have 1 aws account with everything in it, but as you mature, things can get complicated. Organizations can help tidy everything up. An organization is just a central location to manage multiple aws accounts. You can manage billing, access, compliance, security, and share resources across your aws accounts.\n",
    "\n",
    "- centralized management - you can combine all the accounts into an org, manage them more easily\n",
    "- consolidated billing - you can use the org ID to pay for all the accounts, and maybe get bulk discounts\n",
    "- hierarchical groupings of accounts - you can develop some logical structure to the account mess using \"organizations units\"\n",
    "- control over aws service and API actions access control - you can use Service Control Policies (SCP's) to specify the maximum permissions for member accounts in the org\n",
    "\n",
    "## Compliance\n",
    "So what about industry standards and compliance? Could be health inspectors, tax auditors, Health Insurance Portability and Accountability Act (HIPAA, US), General Data Protection Regulation (GDPR, in the EU). The point is that you'll need to both comply with regulations, as well as prove your compliance.\n",
    "\n",
    "Best practices re: compliance have already been built into aws, so you benefit from that right from the jump. And selecting the right region can help with compliance, too. So ultimately, you can either build compliance on top of aws, or leverage their systems.\n",
    "\n",
    "### AWS Artifact\n",
    "Because they're managing your data systems, you can request compliance info from aws, and AWS Artifact is a service that grants you access to compliance reports done by 3rd parties. And the AWS Compliance Center is another good resource.\n",
    "\n",
    "At the end of the day, it is the shared responsibility model, so your stuff must be built to be secure and compliant as well.\n",
    "\n",
    "## Denial of Service Attacks\n",
    "Distributed denial of service (DDOS) attacks intend to shut down your application by overwhelming it. Normally, your application is likely taking requests and returning results. DDOS occurs when an attacker leverages an army of bots to request service form your system, giving it an impossible workload and hoping that it just shuts down. There are a few methods of this.\n",
    "1. UDP flood - you could use the weather service API to send tons of useless weather data to your victim\n",
    "1. HTTP level attacks - this looks like customers asking for reasonable information, just in unreasonable amounts\n",
    "1. Slowloris attacks - agents spending inordinate amounts of time at the front of the queue to intentionally hold up your servers\n",
    "\n",
    "AWS's solution: well, everything we've been discussing.\n",
    "- Security groups can bounce UDP floods; if weather forecasts aren't expected traffic, we don't entertain them.\n",
    "- Elastic Load Balancer can deal with slowloris attacks. Both of these solutions are implemented at the AWS region level, so overwhelming them would basically be an act of global war.\n",
    "- For more sophisticated attacks, there is AWS Shield with AWS WAF (Web Application Firewall). This can filter for the signatures of bad actors, driven by ML.\n",
    "\n",
    "## Additional Security Services\n",
    "Encryption means securing data in a way that only authorized parties can access it. AWS can do encryption at rest. DynamoDB server side encryption at rest is enabled by default, so your data is always locked down. And it integrates with AWS Key Management Service (KMS) to handle your encryption keys.\n",
    "Encryption in Transit means the data is encrypted as it moves between resources.\n",
    "\n",
    "Amazon Inspector can run an automated security assessment on your infrastructure. It'll look for deviations from best practices. It has a network configuration reachability piece, an Amazon agent, and a security assessment service.\n",
    "\n",
    "Amazon GuardDuty is a threat detection service. It analyzes traffic to identify threats accurately."
   ]
  }
 ],
 "metadata": {
  "language_info": {
   "name": "python"
  }
 },
 "nbformat": 4,
 "nbformat_minor": 2
}
