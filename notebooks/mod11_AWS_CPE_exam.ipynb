{
 "cells": [
  {
   "cell_type": "markdown",
   "metadata": {},
   "source": [
    "# AWS Certified Cloud Practitioner Basics\n",
    "## Exam Details\n",
    "It covers 4 domains, weighted differently:\n",
    "1. cloud concepts - 24%\n",
    "1. security & compliance - 30%\n",
    "1. technology - 34%\n",
    "1. billing & pricing - 12%\n",
    "\n",
    "The [exam guide](https://d1.awsstatic.com/training-and-certification/docs-cloud-practitioner/AWS-Certified-Cloud-Practitioner_Exam-Guide.pdf) provides useful information, I should parse that before the exam.\n",
    "\n",
    "They recommend 6 months in the field working with AWS in some capacity.\n",
    "\n",
    "65 questions, 90 minutes. Score range is 100-1000, passing is 700.\n",
    "\n",
    "2 types of questions: multiple choice & multiple response.\n",
    "\n",
    "Always guess, leave nothing unanswered. You can flag questions for review before submission.\n",
    "\n",
    "## Exam Strategies\n",
    "1. Read the *full* question\n",
    "1. Predict the answer\n",
    "1. Eliminate incorrect response options\n",
    "\n",
    "There are also [sample exam questions](https://d1.awsstatic.com/training-and-certification/docs-cloud-practitioner/AWS-Certified-Cloud-Practitioner_Sample-Questions.pdf)."
   ]
  }
 ],
 "metadata": {
  "language_info": {
   "name": "python"
  }
 },
 "nbformat": 4,
 "nbformat_minor": 2
}
