{
 "cells": [
  {
   "cell_type": "markdown",
   "metadata": {},
   "source": [
    "# Pricing & Support\n",
    "## AWS Free Tier\n",
    "Some services are always free. Some give you 12 months free (from AWS account creation). Some offer a short free trial. Lambda, for instance, is always free, up to a limit. S3 has a 12 month trial. LightSail has a 1 month trial. There's a lot of free services, I should dig into these...\n",
    "\n",
    "## Pricing Concepts\n",
    "Basic concepts:\n",
    "- pay for what you use\n",
    "- pay less when you reserve\n",
    "- pay less with volume based discounts when you use more\n",
    "\n",
    "There's a pricing calculator that can help you estimate costs.\n",
    "\n",
    "## Billing Dashboard\n",
    "It's a billing dashboard. With projections.\n",
    "\n",
    "## Consolidated Billing\n",
    "You can consolidate your billing. Roll up multiple aws accounts' bills into the org's bill. Savings plans, reserve plans, and bulk plans also consider the aggregate usage at the org level, so that's nice.\n",
    "\n",
    "## AWS Budgets\n",
    "You can set up budgets that will send you an alert when you're approaching the limit. I should set this up soon...\n",
    "\n",
    "## AWS Cost Explorer\n",
    "Lets you dig into spending by various attributes. You can tag resources to group them together and investigate cost by project, for instance.\n",
    "\n",
    "## AWS Support Plans\n",
    "There are 4 support plans:\n",
    "- basic support - free, some dashboards, trusted advisor, forums, etc.\n",
    "- developer support - 24 hr response time, 12 hour when systems are impaired\n",
    "- business support - trusted advisor all checks, direct phone to support, 4 hour response time when impaired, 1 hour when down, event management\n",
    "- enterprise on-ramp support - 30 min time, technical account managers (TAMs)\n",
    "- enterprise support - 15 min time, dedicated TAM\n",
    "\n",
    "## AWS Marketplace\n",
    "A curated digital catalog that helps you deploy lots of stuff quickly. Basically vendors can put software on the marketplace, offer 1 click deployment, and you can just spin up whatever tools you need, quickly."
   ]
  }
 ],
 "metadata": {
  "language_info": {
   "name": "python"
  }
 },
 "nbformat": 4,
 "nbformat_minor": 2
}
