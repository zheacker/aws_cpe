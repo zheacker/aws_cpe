{
 "cells": [
  {
   "cell_type": "markdown",
   "metadata": {},
   "source": [
    "# Monitoring and Analytics\n",
    "## Amazon CloudWatch\n",
    "This is the main AWS monitoring platform. We can make metrics, alarms on those metrics, and then use SNS to send notifications. It's got a dashboard, it autorefreshes. It seems cool.\n",
    "\n",
    "## Amazon CloudTrail\n",
    "The cash register was one of the first self-auditing machines. AWS CloudTrail is an API auditing tool. Everything that hits the API gets logged. Who did it, when, where, the response, state changes.\n",
    "\n",
    "## AWS Trusted Advisor\n",
    "You might sometimes need outside advisors to come in and help. AWS Trusted Advisor is a service that will evaluate your resources against 5 pillars:\n",
    "- cost optimization\n",
    "- performance\n",
    "- security\n",
    "- fault tolerance\n",
    "- service limits\n",
    "\n",
    "It will basically give you feedback about the quality of your aws infrastructure. Some tests are free, others depend on service levels."
   ]
  }
 ],
 "metadata": {
  "language_info": {
   "name": "python"
  }
 },
 "nbformat": 4,
 "nbformat_minor": 2
}
