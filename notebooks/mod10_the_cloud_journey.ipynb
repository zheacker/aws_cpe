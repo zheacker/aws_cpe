{
 "cells": [
  {
   "cell_type": "markdown",
   "metadata": {},
   "source": [
    "# The Cloud Journey\n",
    "## The AWS Well-Architected Framework\n",
    "This is a framework for helping you determine how solid your architecture really is, and it's based on 6 pillars.\n",
    "1. Operational Excellence\n",
    "1. Security\n",
    "1. Reliability\n",
    "1. Performance Efficiency\n",
    "1. Cost Optimization\n",
    "1. Sustainability\n",
    "\n",
    "## Benefits of the AWS Cloud\n"
   ]
  }
 ],
 "metadata": {
  "language_info": {
   "name": "python"
  }
 },
 "nbformat": 4,
 "nbformat_minor": 2
}
