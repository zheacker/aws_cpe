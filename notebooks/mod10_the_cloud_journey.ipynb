{
 "cells": [
  {
   "cell_type": "markdown",
   "metadata": {},
   "source": [
    "# The Cloud Journey\n",
    "## The AWS Well-Architected Framework\n",
    "This is a framework to ensure a consistent appraoch to designing and reviewing architectures. It's based on 6 pillars.\n",
    "1. Operational Excellence - focuses on running and monitoring system to deliver value, improving processes\n",
    "1. Security - checking integrity of data, using encryption\n",
    "1. Reliability - recovering from disruption, manage change\n",
    "1. Performance Efficiency - using the right resources\n",
    "1. Cost Optimization - optimizing full cost\n",
    "1. Sustainability - minimizing the environmental impact\n",
    "\n",
    "You used to have to do this with a solutions architect, but the framework is now a self-service tool. It'll generate a report and point you to best practices.\n",
    "\n",
    "## Benefits of the AWS Cloud\n",
    "So we now know some AWS services, AWS terminology, and the 6 main benefits of using AWS cloud.\n",
    "1. Trading fixed expense for variable expense - dynamic pricing is likely still cheaper than big fixed expenses\n",
    "1. Massive economies of scale - self explanatory\n",
    "1. Stop guessing capacity - under/over estimating can be a costly headache\n",
    "1. Increase speed and agility - you can try new things quickly\n",
    "1. Stop spending $$/time managing data centers - nix the undifferentiated heavy lifting\n",
    "1. Go global in minutes - deploying across regions is easy"
   ]
  }
 ],
 "metadata": {
  "language_info": {
   "name": "python"
  }
 },
 "nbformat": 4,
 "nbformat_minor": 2
}
