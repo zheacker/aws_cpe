{
 "cells": [
  {
   "cell_type": "markdown",
   "metadata": {},
   "source": [
    "# Module 3 - Global Infrastructure & Reliability\n",
    "High Availability (HA) is paired with fault tolerance, and it means that your service needs to be available even in unforeseen circumstances. AWS Regions play a big role in this. Basically, they've got data centers all over the world, and you can run in any region you want. Regional data sovereignty is a foundational aspect of AWS's structure, so your data will live in only the region you choose unless explicitly moved.\n",
    "\n",
    "You'll select your AWS region based on:\n",
    "1. Compliance\n",
    "1. Proximity\n",
    "1. Feature availability\n",
    "1. Pricing\n",
    "\n",
    "## Availability Zones\n",
    "Regions can have multiple availability zones (AZ's), and EC2 instances run in an AZ. It's recommended to operate across at least 2 AZ's in a region, for fault tolerance. The ELB is a regional construct, which means it can route your workload across AZ's in a region.\n",
    "\n",
    "## Edge Locations\n",
    "Remember, proximity is a major reason to select a region. But your customers can be spread out or remote, so you can cache copies of your data close to where consumers are. This is the Content Delivery Network framework, CDN. They call theirs Amazon Cloudfront. Cloudfront uses Edge Locations (ELs) to deliver data efficiently, and ELs are different from regions. Edge Locations don't only run Cloudfront; they also run Route 53, which is a DNS service that routes traffic efficiently. If you want to run AWS services in your own building, you can do it with AWS Outposts, where Amazon will basically install a fully operational mini-region on site. It's rare, but they can do it all!\n",
    "\n",
    "## Provisioning Resources\n",
    "So how do you provision all these cool services? API's. You make API calls to do whatever cool things you want to do, and you can make those calls via the AWS management console, the AWS command line interface (CLI), the AWS software development kits (SDks), or other as yet unnamed tools.\n",
    "\n",
    "### AWS Management Console\n",
    "Browser based, accessible, convenient, good for test environments, looking at bills, monitoring stuff, etc. This is where you start.\n",
    "\n",
    "### AWS CLI\n",
    "For more reliable provisioning, you can script this all out and run it in the CLI.\n",
    "\n",
    "### AWS SDK's\n",
    "These are plugins for various programming languages that allow you to interact with AWS programmatically.\n",
    "\n",
    "## AWS Elastic Beanstalk\n",
    "The mgmt console, cli, and sdk's are all kinda DIY approaches. But never fear, Amazon provides tools for this too. AWS Elastic Beanstalk helps you provision EC2 instance based environments. You provide code and config requirements, and it build out the architecture for your workload.\n",
    "\n",
    "## AWS CloudFormation\n",
    "This allows you to write out environment configs in declarative yaml (or json) syntax, called CloudFormation Templates, so you can easily recreate them. CloudFormation isn't limited to EC2, either, it can apparently handle a lot more."
   ]
  }
 ],
 "metadata": {
  "language_info": {
   "name": "python"
  }
 },
 "nbformat": 4,
 "nbformat_minor": 2
}
